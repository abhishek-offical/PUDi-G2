{
 "cells": [
  {
   "cell_type": "code",
   "execution_count": 1,
   "id": "327ea501-f2dc-4a75-9c6a-c4c6ccd19620",
   "metadata": {},
   "outputs": [
    {
     "name": "stdout",
     "output_type": "stream",
     "text": [
      "Requirement already satisfied: bs4 in c:\\users\\hp\\anaconda3\\lib\\site-packages (0.0.2)\n",
      "Requirement already satisfied: beautifulsoup4 in c:\\users\\hp\\anaconda3\\lib\\site-packages (from bs4) (4.12.2)\n",
      "Requirement already satisfied: soupsieve>1.2 in c:\\users\\hp\\anaconda3\\lib\\site-packages (from beautifulsoup4->bs4) (2.5)\n",
      "Note: you may need to restart the kernel to use updated packages.\n"
     ]
    }
   ],
   "source": [
    "pip install bs4"
   ]
  },
  {
   "cell_type": "markdown",
   "id": "ccab0ea6-d42f-41c9-91c7-a281c834f74c",
   "metadata": {},
   "source": [
    "##  Importing necessary libraries"
   ]
  },
  {
   "cell_type": "code",
   "execution_count": 2,
   "id": "09de68cf-112c-41a8-91a6-b9c8022142e7",
   "metadata": {},
   "outputs": [],
   "source": [
    "import os\n",
    "import pandas as pd\n",
    "from bs4 import BeautifulSoup\n",
    "import git"
   ]
  },
  {
   "cell_type": "markdown",
   "id": "707b4449-d90c-4bd5-91a8-6325e880d7fe",
   "metadata": {},
   "source": [
    "## Setting the Directory Paths"
   ]
  },
  {
   "cell_type": "code",
   "execution_count": 3,
   "id": "0e4cedf2-1c0f-431f-b154-75b82659ce94",
   "metadata": {},
   "outputs": [],
   "source": [
    "btech_path = r\"C:\\Users\\HP\\Downloads\\project1\\btech\\found\"\n",
    "bpharma_path = r\"C:\\Users\\HP\\Downloads\\project1\\bpharma\\found\""
   ]
  },
  {
   "cell_type": "markdown",
   "id": "280f59e6-f6a5-409d-88c3-52b3abc97f20",
   "metadata": {},
   "source": [
    "## Initialize a list to store the data"
   ]
  },
  {
   "cell_type": "code",
   "execution_count": 4,
   "id": "7fcdde6e-da9f-4d3c-b2f8-ed4daa9ae29d",
   "metadata": {},
   "outputs": [],
   "source": [
    "data = []"
   ]
  },
  {
   "cell_type": "markdown",
   "id": "2136c133-cca8-48b4-95a8-40cbd5664463",
   "metadata": {},
   "source": [
    "## Function to scrape data from an HTML file"
   ]
  },
  {
   "cell_type": "code",
   "execution_count": 10,
   "id": "71496403-1181-45b2-8421-dcf5fab07165",
   "metadata": {},
   "outputs": [],
   "source": [
    "def scrape_data(file_path):\n",
    "    with open(file_path, 'r', encoding='utf-8') as file:\n",
    "        soup = BeautifulSoup(file, 'html.parser')\n",
    "        \n",
    "        div_1 = soup.find(\"div\", {\"class\": \"cont_outer\"})\n",
    "        if not div_1:\n",
    "            return file_path, None, None\n",
    "        \n",
    "        table = div_1.find(\"table\", {\"class\": \"cont_DIV_UN\"})\n",
    "        if not table:\n",
    "            return file_path, None, None\n",
    "        \n",
    "        div_2 = table.find(\"div\", {\"id\": \"midd_part_UN\"})\n",
    "        if not div_2:\n",
    "            return file_path, None, None\n",
    "        \n",
    "        table_2 = div_2.find(\"table\")\n",
    "        if not table_2:\n",
    "            return file_path, None, None\n",
    "        \n",
    "        td_all = table_2.findAll(\"td\", {\"class\": \"border1\"})\n",
    "        if not td_all:\n",
    "            return file_path, None, None\n",
    "        \n",
    "        try:\n",
    "            sgpa = td_all[-6].text.replace(\"SGPA\", \"\").strip()\n",
    "        except IndexError:\n",
    "            sgpa = None\n",
    "        \n",
    "        try:\n",
    "            cgpa = td_all[-4].text.replace(\"CGPA\", \"\").strip()\n",
    "        except IndexError:\n",
    "            cgpa = None\n",
    "        \n",
    "        return file_path, cgpa, sgpa"
   ]
  },
  {
   "cell_type": "markdown",
   "id": "eee1e1de-a66f-4118-8118-b490074bb997",
   "metadata": {},
   "source": [
    "## Loop through all files in both directories and scrape the data\n"
   ]
  },
  {
   "cell_type": "code",
   "execution_count": 11,
   "id": "e3da7aee-c18d-4ad7-8640-e9442ab4690c",
   "metadata": {},
   "outputs": [],
   "source": [
    "for folder_path in [btech_path, bpharma_path]:\n",
    "    for root, _, files in os.walk(folder_path):\n",
    "        for file in files:\n",
    "            if file.endswith('.html'):\n",
    "                file_path = os.path.join(root, file)\n",
    "                try:\n",
    "                    data.append(scrape_data(file_path))\n",
    "                except Exception as e:\n",
    "                    print(f\"Error processing file {file_path}: {e}\")"
   ]
  },
  {
   "cell_type": "markdown",
   "id": "e4c5d39e-0ef9-4261-af03-5c86740f936f",
   "metadata": {},
   "source": [
    "## Convert the data to a DataFrame"
   ]
  },
  {
   "cell_type": "code",
   "execution_count": 12,
   "id": "4c6c0e89-d34c-4f4d-93b9-094f4effdf8a",
   "metadata": {},
   "outputs": [],
   "source": [
    "df = pd.DataFrame(data, columns=['File name', 'cgpa', 'sgpa'])"
   ]
  },
  {
   "cell_type": "markdown",
   "id": "223a3c0a-0034-4de7-bd2d-4d4dc5a13049",
   "metadata": {},
   "source": [
    "## Save the DataFrame to a CSV file"
   ]
  },
  {
   "cell_type": "code",
   "execution_count": 13,
   "id": "1a6ba202-a842-4045-af6b-c36654282b17",
   "metadata": {},
   "outputs": [],
   "source": [
    "output_csv_path = 'output.csv'\n",
    "df.to_csv(output_csv_path, index=False)"
   ]
  }
 ],
 "metadata": {
  "kernelspec": {
   "display_name": "Python 3 (ipykernel)",
   "language": "python",
   "name": "python3"
  },
  "language_info": {
   "codemirror_mode": {
    "name": "ipython",
    "version": 3
   },
   "file_extension": ".py",
   "mimetype": "text/x-python",
   "name": "python",
   "nbconvert_exporter": "python",
   "pygments_lexer": "ipython3",
   "version": "3.11.7"
  }
 },
 "nbformat": 4,
 "nbformat_minor": 5
}
